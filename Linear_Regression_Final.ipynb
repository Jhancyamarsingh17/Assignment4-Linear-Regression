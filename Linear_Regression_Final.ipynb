{
 "cells": [
  {
   "cell_type": "markdown",
   "metadata": {},
   "source": [
    "## Imports\n",
    "** Import pandas, numpy, matplotlib,and seaborn. **"
   ]
  },
  {
   "cell_type": "code",
   "execution_count": 1,
   "metadata": {},
   "outputs": [],
   "source": [
    "import pandas as pd\n",
    "import numpy as np\n",
    "import matplotlib.pyplot as plt\n",
    "\n",
    "from sklearn.pipeline import Pipeline\n",
    "from sklearn.compose import ColumnTransformer\n",
    "from sklearn.preprocessing import StandardScaler , LabelEncoder , OrdinalEncoder"
   ]
  },
  {
   "cell_type": "markdown",
   "metadata": {},
   "source": [
    "## Get the data \n",
    "** Read csv and assign balue for dependent and independent variable"
   ]
  },
  {
   "cell_type": "code",
   "execution_count": 2,
   "metadata": {},
   "outputs": [
    {
     "data": {
      "text/html": [
       "<div>\n",
       "<style scoped>\n",
       "    .dataframe tbody tr th:only-of-type {\n",
       "        vertical-align: middle;\n",
       "    }\n",
       "\n",
       "    .dataframe tbody tr th {\n",
       "        vertical-align: top;\n",
       "    }\n",
       "\n",
       "    .dataframe thead th {\n",
       "        text-align: right;\n",
       "    }\n",
       "</style>\n",
       "<table border=\"1\" class=\"dataframe\">\n",
       "  <thead>\n",
       "    <tr style=\"text-align: right;\">\n",
       "      <th></th>\n",
       "      <th>name</th>\n",
       "      <th>year</th>\n",
       "      <th>km_driven</th>\n",
       "      <th>fuel</th>\n",
       "      <th>seller_type</th>\n",
       "      <th>transmission</th>\n",
       "      <th>owner</th>\n",
       "      <th>mileage</th>\n",
       "      <th>engine</th>\n",
       "      <th>max_power</th>\n",
       "      <th>torque</th>\n",
       "      <th>seats</th>\n",
       "      <th>selling_price</th>\n",
       "    </tr>\n",
       "  </thead>\n",
       "  <tbody>\n",
       "    <tr>\n",
       "      <th>0</th>\n",
       "      <td>Maruti Swift Dzire VDI</td>\n",
       "      <td>2014</td>\n",
       "      <td>145500</td>\n",
       "      <td>Diesel</td>\n",
       "      <td>Individual</td>\n",
       "      <td>Manual</td>\n",
       "      <td>First Owner</td>\n",
       "      <td>23.40</td>\n",
       "      <td>1248.0</td>\n",
       "      <td>74.00</td>\n",
       "      <td>190Nm@ 2000rpm</td>\n",
       "      <td>5.0</td>\n",
       "      <td>450000</td>\n",
       "    </tr>\n",
       "    <tr>\n",
       "      <th>1</th>\n",
       "      <td>Skoda Rapid 1.5 TDI Ambition</td>\n",
       "      <td>2014</td>\n",
       "      <td>120000</td>\n",
       "      <td>Diesel</td>\n",
       "      <td>Individual</td>\n",
       "      <td>Manual</td>\n",
       "      <td>Second Owner</td>\n",
       "      <td>21.14</td>\n",
       "      <td>1498.0</td>\n",
       "      <td>103.52</td>\n",
       "      <td>250Nm@ 1500-2500rpm</td>\n",
       "      <td>5.0</td>\n",
       "      <td>370000</td>\n",
       "    </tr>\n",
       "    <tr>\n",
       "      <th>2</th>\n",
       "      <td>Honda City 2017-2020 EXi</td>\n",
       "      <td>2006</td>\n",
       "      <td>140000</td>\n",
       "      <td>Petrol</td>\n",
       "      <td>Individual</td>\n",
       "      <td>Manual</td>\n",
       "      <td>Third Owner</td>\n",
       "      <td>17.70</td>\n",
       "      <td>1497.0</td>\n",
       "      <td>78.00</td>\n",
       "      <td>12.7@ 2,700(kgm@ rpm)</td>\n",
       "      <td>5.0</td>\n",
       "      <td>158000</td>\n",
       "    </tr>\n",
       "    <tr>\n",
       "      <th>3</th>\n",
       "      <td>Hyundai i20 Sportz Diesel</td>\n",
       "      <td>2010</td>\n",
       "      <td>127000</td>\n",
       "      <td>Diesel</td>\n",
       "      <td>Individual</td>\n",
       "      <td>Manual</td>\n",
       "      <td>First Owner</td>\n",
       "      <td>23.00</td>\n",
       "      <td>1396.0</td>\n",
       "      <td>90.00</td>\n",
       "      <td>22.4 kgm at 1750-2750rpm</td>\n",
       "      <td>5.0</td>\n",
       "      <td>225000</td>\n",
       "    </tr>\n",
       "    <tr>\n",
       "      <th>4</th>\n",
       "      <td>Maruti Swift VXI BSIII</td>\n",
       "      <td>2007</td>\n",
       "      <td>120000</td>\n",
       "      <td>Petrol</td>\n",
       "      <td>Individual</td>\n",
       "      <td>Manual</td>\n",
       "      <td>First Owner</td>\n",
       "      <td>16.10</td>\n",
       "      <td>1298.0</td>\n",
       "      <td>88.20</td>\n",
       "      <td>11.5@ 4,500(kgm@ rpm)</td>\n",
       "      <td>5.0</td>\n",
       "      <td>130000</td>\n",
       "    </tr>\n",
       "  </tbody>\n",
       "</table>\n",
       "</div>"
      ],
      "text/plain": [
       "                           name  year  km_driven    fuel seller_type  \\\n",
       "0        Maruti Swift Dzire VDI  2014     145500  Diesel  Individual   \n",
       "1  Skoda Rapid 1.5 TDI Ambition  2014     120000  Diesel  Individual   \n",
       "2      Honda City 2017-2020 EXi  2006     140000  Petrol  Individual   \n",
       "3     Hyundai i20 Sportz Diesel  2010     127000  Diesel  Individual   \n",
       "4        Maruti Swift VXI BSIII  2007     120000  Petrol  Individual   \n",
       "\n",
       "  transmission         owner  mileage  engine  max_power  \\\n",
       "0       Manual   First Owner    23.40  1248.0      74.00   \n",
       "1       Manual  Second Owner    21.14  1498.0     103.52   \n",
       "2       Manual   Third Owner    17.70  1497.0      78.00   \n",
       "3       Manual   First Owner    23.00  1396.0      90.00   \n",
       "4       Manual   First Owner    16.10  1298.0      88.20   \n",
       "\n",
       "                     torque  seats  selling_price  \n",
       "0            190Nm@ 2000rpm    5.0         450000  \n",
       "1       250Nm@ 1500-2500rpm    5.0         370000  \n",
       "2     12.7@ 2,700(kgm@ rpm)    5.0         158000  \n",
       "3  22.4 kgm at 1750-2750rpm    5.0         225000  \n",
       "4     11.5@ 4,500(kgm@ rpm)    5.0         130000  "
      ]
     },
     "execution_count": 2,
     "metadata": {},
     "output_type": "execute_result"
    }
   ],
   "source": [
    "cardetails = pd.read_csv(\"cardetails_cleaned.csv\")\n",
    "cardetails.dropna(inplace = True)\n",
    "cardetails.head (5)\n"
   ]
  },
  {
   "cell_type": "markdown",
   "metadata": {},
   "source": [
    "##  Data Cleaning\n",
    "\n",
    "** Encoding the categorical variable"
   ]
  },
  {
   "cell_type": "code",
   "execution_count": 3,
   "metadata": {},
   "outputs": [],
   "source": [
    "categ = ['fuel','seller_type','transmission','owner' , 'name']\n",
    "\n",
    "# Encode Categorical Columns\n",
    "le = LabelEncoder()\n",
    "cardetails[categ] = cardetails[categ].apply(le.fit_transform)\n"
   ]
  },
  {
   "cell_type": "markdown",
   "metadata": {},
   "source": [
    "# Removing outliers after observing initial model"
   ]
  },
  {
   "cell_type": "markdown",
   "metadata": {},
   "source": [
    "*R-squared value was 79 in OLS model. But the residual graphs were not proper, so tried to remove the outliers and standardized the features"
   ]
  },
  {
   "cell_type": "code",
   "execution_count": 4,
   "metadata": {},
   "outputs": [
    {
     "data": {
      "text/plain": [
       "name               int32\n",
       "year               int64\n",
       "km_driven          int64\n",
       "fuel               int32\n",
       "seller_type        int32\n",
       "transmission       int32\n",
       "owner              int32\n",
       "mileage          float64\n",
       "engine           float64\n",
       "max_power        float64\n",
       "torque            object\n",
       "seats            float64\n",
       "selling_price      int64\n",
       "dtype: object"
      ]
     },
     "execution_count": 4,
     "metadata": {},
     "output_type": "execute_result"
    }
   ],
   "source": [
    "cardetails.dtypes"
   ]
  },
  {
   "cell_type": "code",
   "execution_count": 5,
   "metadata": {},
   "outputs": [],
   "source": [
    "Q1 = cardetails['engine'].quantile(0.25)\n",
    "Q3 = cardetails['engine'].quantile(0.75)\n",
    "IQR = Q3 - Q1\n",
    "\n",
    "upper_limit = Q3 + 1.5 * IQR\n",
    "lower_limit = Q1 - 1.5 * IQR\n",
    "cardetails[cardetails['engine']> upper_limit]\n",
    "cardetails[cardetails['engine']< lower_limit]\n",
    "cardetails = cardetails[cardetails['engine'] < upper_limit]\n",
    "\n",
    "Q1 = cardetails['max_power'].quantile(0.25)\n",
    "Q3 = cardetails['max_power'].quantile(0.75)\n",
    "IQR = Q3 - Q1\n",
    "\n",
    "upper_limit = Q3 + 1.5 * IQR\n",
    "lower_limit = Q1 - 1.5 * IQR\n",
    "cardetails[cardetails['max_power']> upper_limit]\n",
    "cardetails[cardetails['max_power']< lower_limit]\n",
    "cardetails = cardetails[cardetails['max_power'] < upper_limit]"
   ]
  },
  {
   "cell_type": "code",
   "execution_count": 6,
   "metadata": {},
   "outputs": [],
   "source": [
    "Q1 = cardetails['mileage'].quantile(0.25)\n",
    "Q3 = cardetails['mileage'].quantile(0.75)\n",
    "IQR = Q3 - Q1\n",
    "\n",
    "upper_limit = Q3 + 1.5 * IQR\n",
    "lower_limit = Q1 - 1.5 * IQR\n",
    "cardetails[cardetails['mileage']> upper_limit]\n",
    "cardetails[cardetails['mileage']< lower_limit]\n",
    "cardetails = cardetails[cardetails['mileage'] < upper_limit]\n",
    "\n",
    "Q1 = cardetails['km_driven'].quantile(0.25)\n",
    "Q3 = cardetails['km_driven'].quantile(0.75)\n",
    "IQR = Q3 - Q1\n",
    "\n",
    "upper_limit = Q3 + 1.5 * IQR\n",
    "lower_limit = Q1 - 1.5 * IQR\n",
    "cardetails[cardetails['km_driven']> upper_limit]\n",
    "cardetails[cardetails['km_driven']< lower_limit]\n",
    "cardetails = cardetails[cardetails['km_driven'] < upper_limit]\n",
    "\n",
    "Q1 = cardetails['selling_price'].quantile(0.25)\n",
    "Q3 = cardetails['selling_price'].quantile(0.75)\n",
    "IQR = Q3 - Q1\n",
    "\n",
    "upper_limit = Q3 + 1.5 * IQR\n",
    "lower_limit = Q1 - 1.5 * IQR\n",
    "cardetails[cardetails['selling_price']> upper_limit]\n",
    "cardetails[cardetails['selling_price']< lower_limit]\n",
    "cardetails = cardetails[cardetails['selling_price'] < upper_limit]"
   ]
  },
  {
   "cell_type": "markdown",
   "metadata": {},
   "source": [
    "# Standardize the data\n",
    "# Define X and Y"
   ]
  },
  {
   "cell_type": "code",
   "execution_count": 7,
   "metadata": {},
   "outputs": [],
   "source": [
    "X=cardetails.drop(columns=['torque','selling_price','name'],axis=1)\n",
    "#X = X.apply(pd.to_numeric , errors = 'coerce')\n",
    "\n",
    "y=cardetails['selling_price']\n",
    "#y = y.apply(pd.to_numeric , errors = 'coerce')\n",
    "\n",
    "from sklearn.preprocessing import MinMaxScaler\n",
    "scalar=MinMaxScaler()\n",
    "X=scalar.fit_transform(X)\n",
    "\n"
   ]
  },
  {
   "cell_type": "markdown",
   "metadata": {},
   "source": [
    "# Find the correlation"
   ]
  },
  {
   "cell_type": "code",
   "execution_count": 8,
   "metadata": {},
   "outputs": [
    {
     "data": {
      "text/html": [
       "<div>\n",
       "<style scoped>\n",
       "    .dataframe tbody tr th:only-of-type {\n",
       "        vertical-align: middle;\n",
       "    }\n",
       "\n",
       "    .dataframe tbody tr th {\n",
       "        vertical-align: top;\n",
       "    }\n",
       "\n",
       "    .dataframe thead th {\n",
       "        text-align: right;\n",
       "    }\n",
       "</style>\n",
       "<table border=\"1\" class=\"dataframe\">\n",
       "  <thead>\n",
       "    <tr style=\"text-align: right;\">\n",
       "      <th></th>\n",
       "      <th>name</th>\n",
       "      <th>year</th>\n",
       "      <th>km_driven</th>\n",
       "      <th>fuel</th>\n",
       "      <th>seller_type</th>\n",
       "      <th>transmission</th>\n",
       "      <th>owner</th>\n",
       "      <th>mileage</th>\n",
       "      <th>engine</th>\n",
       "      <th>max_power</th>\n",
       "      <th>seats</th>\n",
       "      <th>selling_price</th>\n",
       "    </tr>\n",
       "  </thead>\n",
       "  <tbody>\n",
       "    <tr>\n",
       "      <th>name</th>\n",
       "      <td>1.000000</td>\n",
       "      <td>-0.005571</td>\n",
       "      <td>0.047942</td>\n",
       "      <td>-0.116659</td>\n",
       "      <td>0.043246</td>\n",
       "      <td>-0.031715</td>\n",
       "      <td>0.002748</td>\n",
       "      <td>0.094664</td>\n",
       "      <td>-0.026921</td>\n",
       "      <td>-0.089686</td>\n",
       "      <td>-0.019601</td>\n",
       "      <td>-0.018047</td>\n",
       "    </tr>\n",
       "    <tr>\n",
       "      <th>year</th>\n",
       "      <td>-0.005571</td>\n",
       "      <td>1.000000</td>\n",
       "      <td>-0.468048</td>\n",
       "      <td>-0.089423</td>\n",
       "      <td>-0.091232</td>\n",
       "      <td>-0.152872</td>\n",
       "      <td>-0.453563</td>\n",
       "      <td>0.443671</td>\n",
       "      <td>0.092714</td>\n",
       "      <td>0.289751</td>\n",
       "      <td>0.173404</td>\n",
       "      <td>0.727428</td>\n",
       "    </tr>\n",
       "    <tr>\n",
       "      <th>km_driven</th>\n",
       "      <td>0.047942</td>\n",
       "      <td>-0.468048</td>\n",
       "      <td>1.000000</td>\n",
       "      <td>-0.347417</td>\n",
       "      <td>0.092787</td>\n",
       "      <td>0.162248</td>\n",
       "      <td>0.349849</td>\n",
       "      <td>-0.096008</td>\n",
       "      <td>0.236824</td>\n",
       "      <td>0.017760</td>\n",
       "      <td>0.023998</td>\n",
       "      <td>-0.332019</td>\n",
       "    </tr>\n",
       "    <tr>\n",
       "      <th>fuel</th>\n",
       "      <td>-0.116659</td>\n",
       "      <td>-0.089423</td>\n",
       "      <td>-0.347417</td>\n",
       "      <td>1.000000</td>\n",
       "      <td>0.039891</td>\n",
       "      <td>-0.114823</td>\n",
       "      <td>-0.012257</td>\n",
       "      <td>-0.439274</td>\n",
       "      <td>-0.526348</td>\n",
       "      <td>-0.254155</td>\n",
       "      <td>-0.161120</td>\n",
       "      <td>-0.294322</td>\n",
       "    </tr>\n",
       "    <tr>\n",
       "      <th>seller_type</th>\n",
       "      <td>0.043246</td>\n",
       "      <td>-0.091232</td>\n",
       "      <td>0.092787</td>\n",
       "      <td>0.039891</td>\n",
       "      <td>1.000000</td>\n",
       "      <td>0.069103</td>\n",
       "      <td>0.130076</td>\n",
       "      <td>-0.059224</td>\n",
       "      <td>-0.083944</td>\n",
       "      <td>-0.122454</td>\n",
       "      <td>-0.005256</td>\n",
       "      <td>-0.153290</td>\n",
       "    </tr>\n",
       "    <tr>\n",
       "      <th>transmission</th>\n",
       "      <td>-0.031715</td>\n",
       "      <td>-0.152872</td>\n",
       "      <td>0.162248</td>\n",
       "      <td>-0.114823</td>\n",
       "      <td>0.069103</td>\n",
       "      <td>1.000000</td>\n",
       "      <td>0.086855</td>\n",
       "      <td>0.046504</td>\n",
       "      <td>-0.036059</td>\n",
       "      <td>-0.123037</td>\n",
       "      <td>0.024878</td>\n",
       "      <td>-0.185166</td>\n",
       "    </tr>\n",
       "    <tr>\n",
       "      <th>owner</th>\n",
       "      <td>0.002748</td>\n",
       "      <td>-0.453563</td>\n",
       "      <td>0.349849</td>\n",
       "      <td>-0.012257</td>\n",
       "      <td>0.130076</td>\n",
       "      <td>0.086855</td>\n",
       "      <td>1.000000</td>\n",
       "      <td>-0.200929</td>\n",
       "      <td>0.001466</td>\n",
       "      <td>-0.106580</td>\n",
       "      <td>-0.058439</td>\n",
       "      <td>-0.390386</td>\n",
       "    </tr>\n",
       "    <tr>\n",
       "      <th>mileage</th>\n",
       "      <td>0.094664</td>\n",
       "      <td>0.443671</td>\n",
       "      <td>-0.096008</td>\n",
       "      <td>-0.439274</td>\n",
       "      <td>-0.059224</td>\n",
       "      <td>0.046504</td>\n",
       "      <td>-0.200929</td>\n",
       "      <td>1.000000</td>\n",
       "      <td>-0.092882</td>\n",
       "      <td>-0.054663</td>\n",
       "      <td>-0.092900</td>\n",
       "      <td>0.350145</td>\n",
       "    </tr>\n",
       "    <tr>\n",
       "      <th>engine</th>\n",
       "      <td>-0.026921</td>\n",
       "      <td>0.092714</td>\n",
       "      <td>0.236824</td>\n",
       "      <td>-0.526348</td>\n",
       "      <td>-0.083944</td>\n",
       "      <td>-0.036059</td>\n",
       "      <td>0.001466</td>\n",
       "      <td>-0.092882</td>\n",
       "      <td>1.000000</td>\n",
       "      <td>0.799610</td>\n",
       "      <td>0.206388</td>\n",
       "      <td>0.399273</td>\n",
       "    </tr>\n",
       "    <tr>\n",
       "      <th>max_power</th>\n",
       "      <td>-0.089686</td>\n",
       "      <td>0.289751</td>\n",
       "      <td>0.017760</td>\n",
       "      <td>-0.254155</td>\n",
       "      <td>-0.122454</td>\n",
       "      <td>-0.123037</td>\n",
       "      <td>-0.106580</td>\n",
       "      <td>-0.054663</td>\n",
       "      <td>0.799610</td>\n",
       "      <td>1.000000</td>\n",
       "      <td>0.170736</td>\n",
       "      <td>0.581425</td>\n",
       "    </tr>\n",
       "    <tr>\n",
       "      <th>seats</th>\n",
       "      <td>-0.019601</td>\n",
       "      <td>0.173404</td>\n",
       "      <td>0.023998</td>\n",
       "      <td>-0.161120</td>\n",
       "      <td>-0.005256</td>\n",
       "      <td>0.024878</td>\n",
       "      <td>-0.058439</td>\n",
       "      <td>-0.092900</td>\n",
       "      <td>0.206388</td>\n",
       "      <td>0.170736</td>\n",
       "      <td>1.000000</td>\n",
       "      <td>0.222495</td>\n",
       "    </tr>\n",
       "    <tr>\n",
       "      <th>selling_price</th>\n",
       "      <td>-0.018047</td>\n",
       "      <td>0.727428</td>\n",
       "      <td>-0.332019</td>\n",
       "      <td>-0.294322</td>\n",
       "      <td>-0.153290</td>\n",
       "      <td>-0.185166</td>\n",
       "      <td>-0.390386</td>\n",
       "      <td>0.350145</td>\n",
       "      <td>0.399273</td>\n",
       "      <td>0.581425</td>\n",
       "      <td>0.222495</td>\n",
       "      <td>1.000000</td>\n",
       "    </tr>\n",
       "  </tbody>\n",
       "</table>\n",
       "</div>"
      ],
      "text/plain": [
       "                   name      year  km_driven      fuel  seller_type  \\\n",
       "name           1.000000 -0.005571   0.047942 -0.116659     0.043246   \n",
       "year          -0.005571  1.000000  -0.468048 -0.089423    -0.091232   \n",
       "km_driven      0.047942 -0.468048   1.000000 -0.347417     0.092787   \n",
       "fuel          -0.116659 -0.089423  -0.347417  1.000000     0.039891   \n",
       "seller_type    0.043246 -0.091232   0.092787  0.039891     1.000000   \n",
       "transmission  -0.031715 -0.152872   0.162248 -0.114823     0.069103   \n",
       "owner          0.002748 -0.453563   0.349849 -0.012257     0.130076   \n",
       "mileage        0.094664  0.443671  -0.096008 -0.439274    -0.059224   \n",
       "engine        -0.026921  0.092714   0.236824 -0.526348    -0.083944   \n",
       "max_power     -0.089686  0.289751   0.017760 -0.254155    -0.122454   \n",
       "seats         -0.019601  0.173404   0.023998 -0.161120    -0.005256   \n",
       "selling_price -0.018047  0.727428  -0.332019 -0.294322    -0.153290   \n",
       "\n",
       "               transmission     owner   mileage    engine  max_power  \\\n",
       "name              -0.031715  0.002748  0.094664 -0.026921  -0.089686   \n",
       "year              -0.152872 -0.453563  0.443671  0.092714   0.289751   \n",
       "km_driven          0.162248  0.349849 -0.096008  0.236824   0.017760   \n",
       "fuel              -0.114823 -0.012257 -0.439274 -0.526348  -0.254155   \n",
       "seller_type        0.069103  0.130076 -0.059224 -0.083944  -0.122454   \n",
       "transmission       1.000000  0.086855  0.046504 -0.036059  -0.123037   \n",
       "owner              0.086855  1.000000 -0.200929  0.001466  -0.106580   \n",
       "mileage            0.046504 -0.200929  1.000000 -0.092882  -0.054663   \n",
       "engine            -0.036059  0.001466 -0.092882  1.000000   0.799610   \n",
       "max_power         -0.123037 -0.106580 -0.054663  0.799610   1.000000   \n",
       "seats              0.024878 -0.058439 -0.092900  0.206388   0.170736   \n",
       "selling_price     -0.185166 -0.390386  0.350145  0.399273   0.581425   \n",
       "\n",
       "                  seats  selling_price  \n",
       "name          -0.019601      -0.018047  \n",
       "year           0.173404       0.727428  \n",
       "km_driven      0.023998      -0.332019  \n",
       "fuel          -0.161120      -0.294322  \n",
       "seller_type   -0.005256      -0.153290  \n",
       "transmission   0.024878      -0.185166  \n",
       "owner         -0.058439      -0.390386  \n",
       "mileage       -0.092900       0.350145  \n",
       "engine         0.206388       0.399273  \n",
       "max_power      0.170736       0.581425  \n",
       "seats          1.000000       0.222495  \n",
       "selling_price  0.222495       1.000000  "
      ]
     },
     "execution_count": 8,
     "metadata": {},
     "output_type": "execute_result"
    }
   ],
   "source": [
    "correlation = cardetails.corr()\n",
    "correlation"
   ]
  },
  {
   "cell_type": "markdown",
   "metadata": {},
   "source": [
    "#  Splitting the dataset into the Training set and Test set\n",
    "** Fit the training data in  linear regression using sklearn library\n",
    "\n",
    "** Fit the training data in ols using statmodels"
   ]
  },
  {
   "cell_type": "code",
   "execution_count": 9,
   "metadata": {},
   "outputs": [],
   "source": [
    "from sklearn.model_selection import train_test_split\n",
    "X_train, X_test, y_train, y_test = train_test_split(X, y, test_size = 0.2, random_state = 0)"
   ]
  },
  {
   "cell_type": "code",
   "execution_count": 10,
   "metadata": {},
   "outputs": [
    {
     "data": {
      "text/plain": [
       "LinearRegression()"
      ]
     },
     "execution_count": 10,
     "metadata": {},
     "output_type": "execute_result"
    }
   ],
   "source": [
    "from sklearn.linear_model import LinearRegression\n",
    "\n",
    "#modeling_pipeline = Pipeline([('data_processing', preprocessor), ('lm', LinearRegression())])\n",
    "modeling_pipeline = LinearRegression()\n",
    "modeling_pipeline.fit(X_train , y_train)\n"
   ]
  },
  {
   "cell_type": "code",
   "execution_count": 11,
   "metadata": {},
   "outputs": [
    {
     "data": {
      "text/plain": [
       "0.7304269831352856"
      ]
     },
     "execution_count": 11,
     "metadata": {},
     "output_type": "execute_result"
    }
   ],
   "source": [
    "y_pred = modeling_pipeline.predict(X_test)\n",
    "modeling_pipeline.score (X_train , y_train)\n"
   ]
  },
  {
   "cell_type": "code",
   "execution_count": 12,
   "metadata": {},
   "outputs": [
    {
     "name": "stdout",
     "output_type": "stream",
     "text": [
      "0.7353760826812745\n"
     ]
    }
   ],
   "source": [
    "\n",
    "from sklearn.metrics import r2_score, mean_squared_error ,confusion_matrix,classification_report,matthews_corrcoef,accuracy_score\n",
    "accuracy = r2_score(y_test,y_pred )\n",
    "print(accuracy)"
   ]
  },
  {
   "cell_type": "markdown",
   "metadata": {},
   "source": [
    "## Stats Models\n",
    "** fit x and y to Oridinary least square "
   ]
  },
  {
   "cell_type": "code",
   "execution_count": 13,
   "metadata": {},
   "outputs": [
    {
     "name": "stdout",
     "output_type": "stream",
     "text": [
      "                                 OLS Regression Results                                \n",
      "=======================================================================================\n",
      "Dep. Variable:          selling_price   R-squared (uncentered):                   0.937\n",
      "Model:                            OLS   Adj. R-squared (uncentered):              0.936\n",
      "Method:                 Least Squares   F-statistic:                              6027.\n",
      "Date:                Mon, 11 Oct 2021   Prob (F-statistic):                        0.00\n",
      "Time:                        21:09:03   Log-Likelihood:                         -53538.\n",
      "No. Observations:                4092   AIC:                                  1.071e+05\n",
      "Df Residuals:                    4082   BIC:                                  1.072e+05\n",
      "Df Model:                          10                                                  \n",
      "Covariance Type:            nonrobust                                                  \n",
      "==============================================================================\n",
      "                 coef    std err          t      P>|t|      [0.025      0.975]\n",
      "------------------------------------------------------------------------------\n",
      "x1           6.31e+05   1.76e+04     35.935      0.000    5.97e+05    6.65e+05\n",
      "x2         -1.717e+05   1.04e+04    -16.455      0.000   -1.92e+05   -1.51e+05\n",
      "x3         -1.814e+05   5978.540    -30.342      0.000   -1.93e+05    -1.7e+05\n",
      "x4         -4.568e+04   1.24e+04     -3.673      0.000   -7.01e+04   -2.13e+04\n",
      "x5         -8.076e+04   8255.139     -9.783      0.000   -9.69e+04   -6.46e+04\n",
      "x6         -5.385e+04   6682.786     -8.057      0.000   -6.69e+04   -4.07e+04\n",
      "x7          2.705e+04   1.72e+04      1.573      0.116   -6673.603    6.08e+04\n",
      "x8         -1.735e+05   2.14e+04     -8.096      0.000   -2.16e+05   -1.31e+05\n",
      "x9          5.229e+05   1.77e+04     29.613      0.000    4.88e+05    5.58e+05\n",
      "x10         2.021e+05   3.27e+04      6.186      0.000    1.38e+05    2.66e+05\n",
      "==============================================================================\n",
      "Omnibus:                      148.329   Durbin-Watson:                   2.026\n",
      "Prob(Omnibus):                  0.000   Jarque-Bera (JB):              169.575\n",
      "Skew:                           0.447   Prob(JB):                     1.50e-37\n",
      "Kurtosis:                       3.441   Cond. No.                         34.1\n",
      "==============================================================================\n",
      "\n",
      "Warnings:\n",
      "[1] Standard Errors assume that the covariance matrix of the errors is correctly specified.\n"
     ]
    }
   ],
   "source": [
    "import statsmodels.api as smf\n",
    "\n",
    "simpleOLSModel = smf.OLS(y_train , X_train).fit()\n",
    "print(simpleOLSModel.summary())"
   ]
  },
  {
   "cell_type": "code",
   "execution_count": 41,
   "metadata": {},
   "outputs": [
    {
     "data": {
      "image/png": "[encoded data removed]",
      "text/plain": [
       "<Figure size 432x288 with 1 Axes>"
      ]
     },
     "metadata": {
      "needs_background": "light"
     },
     "output_type": "display_data"
    }
   ],
   "source": [
    "y_pred_ols = simpleOLSModel.predict(X_test)\n",
    "resid = y_test - ypred\n",
    "\n",
    "plt.plot(ypred, resid, 'ro', alpha=0.25)\n",
    "#plt.hlines(0,0,60)\n",
    "#plt.xlim()\n",
    "plt.title('Predictions vs. Residuals')\n",
    "plt.xlabel('Predicted')\n",
    "plt.ylabel('Residual')\n",
    "plt.show()"
   ]
  },
  {
   "cell_type": "code",
   "execution_count": 42,
   "metadata": {
    "scrolled": true
   },
   "outputs": [
    {
     "name": "stdout",
     "output_type": "stream",
     "text": [
      "0.733335507450934\n"
     ]
    }
   ],
   "source": [
    "accuracy_ols = r2_score(y_test,y_pred_ols )\n",
    "print(accuracy_ols)"
   ]
  },
  {
   "cell_type": "code",
   "execution_count": 43,
   "metadata": {},
   "outputs": [
    {
     "data": {
      "image/png": "[encoded data removed]",
      "text/plain": [
       "<Figure size 432x288 with 1 Axes>"
      ]
     },
     "metadata": {
      "needs_background": "light"
     },
     "output_type": "display_data"
    }
   ],
   "source": [
    "plt.plot(y_test, ypred, 'bo')\n",
    "plt.ylabel('Predicted')\n",
    "plt.xlabel('Actual')\n",
    "plt.show()"
   ]
  },
  {
   "cell_type": "markdown",
   "metadata": {},
   "source": [
    "### Overall R-squared value is 97% on Training data, 73% on Test data.\n",
    "** Graph looks somewhat linear , not  overfitting or underfitting\n",
    "** But the residual and predicted graph alarms"
   ]
  },
  {
   "cell_type": "markdown",
   "metadata": {},
   "source": [
    "\n",
    "# Lasso Regularization with different lambda value\n"
   ]
  },
  {
   "cell_type": "code",
   "execution_count": 44,
   "metadata": {},
   "outputs": [],
   "source": [
    "from sklearn.linear_model import Ridge\n",
    "ridge = Ridge(alpha=5)\n",
    "ridge.fit(X_train, y_train)\n",
    "y_pred_ridge = ridge.predict(X_test)"
   ]
  },
  {
   "cell_type": "code",
   "execution_count": 45,
   "metadata": {},
   "outputs": [
    {
     "name": "stdout",
     "output_type": "stream",
     "text": [
      "Finished\n"
     ]
    }
   ],
   "source": [
    "from collections import defaultdict\n",
    "alphas = [0, 1, 2, 5, 10, 50]\n",
    "\n",
    "ridge_results = defaultdict(dict)\n",
    "\n",
    "for alph in alphas:\n",
    "    modeling_pipeline_ridge = Pipeline([('ridge', Ridge(alpha=alph))])\n",
    "    modeling_pipeline_ridge.fit(X_train, y_train)\n",
    "    ridge_results['coefficients'][alph] = modeling_pipeline_ridge['ridge'].coef_\n",
    "    ridge_results['training score'][alph] = modeling_pipeline_ridge.score(X_train, y_train)\n",
    "    ridge_results['test score'][alph] = modeling_pipeline_ridge.score(X_test, y_test)\n",
    "    \n",
    "print('Finished')"
   ]
  },
  {
   "cell_type": "markdown",
   "metadata": {},
   "source": [
    "## Changes in Coefficient values"
   ]
  },
  {
   "cell_type": "code",
   "execution_count": 46,
   "metadata": {},
   "outputs": [
    {
     "data": {
      "image/png": "[encoded data removed]",
      "text/plain": [
       "<Figure size 576x288 with 1 Axes>"
      ]
     },
     "metadata": {
      "needs_background": "light"
     },
     "output_type": "display_data"
    }
   ],
   "source": [
    "coefficients = pd.DataFrame.from_dict(ridge_results['coefficients'])\n",
    "coefficients = coefficients.reset_index()\n",
    "coefficients = coefficients.rename(columns={'index':'coefficient_nbr'})\n",
    "coefficients = coefficients.melt(id_vars='coefficient_nbr', var_name='alpha', value_name='coefficient')\n",
    "\n",
    "(\n",
    "coefficients.pivot_table(index='alpha', columns='coefficient_nbr', values='coefficient')\n",
    "    .plot(figsize=(8,4),legend=False)\n",
    ")\n",
    "\n",
    "plt.title('Ridge Coefficients', loc='left')\n",
    "plt.xlabel('Alpha (Regularization Amount)')\n",
    "plt.ylabel('Coefficient')\n",
    "#plt.ylim((-10, 10))\n",
    "plt.show()"
   ]
  },
  {
   "cell_type": "markdown",
   "metadata": {},
   "source": [
    "## changes in r2 value"
   ]
  },
  {
   "cell_type": "code",
   "execution_count": 47,
   "metadata": {},
   "outputs": [
    {
     "data": {
      "image/png": "[encoded data removed]",
      "text/plain": [
       "<Figure size 432x288 with 1 Axes>"
      ]
     },
     "metadata": {
      "needs_background": "light"
     },
     "output_type": "display_data"
    }
   ],
   "source": [
    "\n",
    "ridge_training_r2 = pd.Series(ridge_results['training score'])\n",
    "ridge_test_r2 = pd.Series(ridge_results['test score'])\n",
    "\n",
    "ridge_training_r2.plot()\n",
    "ridge_test_r2.plot()\n",
    "plt.title('$R^2$ for Ridge Regression')\n",
    "plt.legend(['Training','Test'])\n",
    "plt.xlabel('Alpha (Regularization Level)')\n",
    "plt.ylabel('Percent of Variance Explained')\n",
    "plt.ylim(0.4, 1)\n",
    "plt.show()\n",
    "\n"
   ]
  },
  {
   "cell_type": "code",
   "execution_count": 48,
   "metadata": {
    "scrolled": true
   },
   "outputs": [
    {
     "name": "stdout",
     "output_type": "stream",
     "text": [
      "0.7341525792886412\n"
     ]
    }
   ],
   "source": [
    "accuracy_ridge = r2_score(y_test,y_pred_ridge )\n",
    "print(accuracy_ridge)"
   ]
  },
  {
   "cell_type": "markdown",
   "metadata": {},
   "source": [
    "### I dont see an increase in r2 score value using Lasso with any alpha value , but with more penalty (50). r2 score got reduced"
   ]
  },
  {
   "cell_type": "markdown",
   "metadata": {},
   "source": [
    "## Lasso regression "
   ]
  },
  {
   "cell_type": "code",
   "execution_count": 49,
   "metadata": {},
   "outputs": [
    {
     "name": "stdout",
     "output_type": "stream",
     "text": [
      "Finished\n"
     ]
    }
   ],
   "source": [
    "from sklearn.linear_model import Lasso\n",
    "from collections import defaultdict\n",
    "\n",
    "alphas = [1, 2, 5, 10, 50]\n",
    "\n",
    "lasso_results = defaultdict(dict)\n",
    "\n",
    "for alph in alphas:\n",
    "    modeling_pipeline_lasso = Pipeline([ ('lasso', Lasso(alpha=alph))])\n",
    "    modeling_pipeline_lasso.fit(X_train, y_train)\n",
    "    lasso_results['coefficients'][alph] = modeling_pipeline_lasso['lasso'].coef_\n",
    "    lasso_results['training score'][alph] = modeling_pipeline_lasso.score(X_train, y_train)\n",
    "    lasso_results['test score'][alph] = modeling_pipeline_lasso.score(X_test, y_test)\n",
    "    \n",
    "print('Finished')\n",
    "\n"
   ]
  },
  {
   "cell_type": "code",
   "execution_count": 50,
   "metadata": {},
   "outputs": [
    {
     "data": {
      "image/png": "[encoded data removed]",
      "text/plain": [
       "<Figure size 576x288 with 1 Axes>"
      ]
     },
     "metadata": {
      "needs_background": "light"
     },
     "output_type": "display_data"
    }
   ],
   "source": [
    "coefficients = pd.DataFrame.from_dict(lasso_results['coefficients'])\n",
    "coefficients = coefficients.reset_index()\n",
    "coefficients = coefficients.rename(columns={'index':'coefficient_nbr'})\n",
    "coefficients = coefficients.melt(id_vars='coefficient_nbr', var_name='alpha', value_name='coefficient')\n",
    "\n",
    "coefficients.pivot_table(index='alpha', columns='coefficient_nbr', values='coefficient').plot(figsize=(8,4))\n",
    "plt.title('Lasso Coefficients', loc='left')\n",
    "plt.xlabel('Alpha (Regularization Amount)')\n",
    "plt.ylabel('Coefficient')\n",
    "plt.legend('')\n",
    "plt.show()"
   ]
  },
  {
   "cell_type": "code",
   "execution_count": 51,
   "metadata": {},
   "outputs": [
    {
     "data": {
      "image/png": "[encoded data removed]",
      "text/plain": [
       "<Figure size 432x288 with 1 Axes>"
      ]
     },
     "metadata": {
      "needs_background": "light"
     },
     "output_type": "display_data"
    }
   ],
   "source": [
    "lasso_training_r2 = pd.Series(lasso_results['training score'])\n",
    "lasso_test_r2 = pd.Series(lasso_results['test score'])\n",
    "\n",
    "lasso_training_r2.plot()\n",
    "lasso_test_r2.plot()\n",
    "plt.title('$R^2$ for Lasso Regression')\n",
    "plt.legend(['Training','Test'])\n",
    "plt.xlabel('Alpha (Regularization Level)')\n",
    "plt.ylabel('Percent of Variance Explained')\n",
    "plt.show()"
   ]
  },
  {
   "cell_type": "code",
   "execution_count": 54,
   "metadata": {},
   "outputs": [],
   "source": [
    "from sklearn.linear_model import Lasso\n",
    "lasso = Lasso(alpha=50)\n",
    "lasso.fit(X_train, y_train)\n",
    "y_pred_lasso = lasso.predict(X_test)\n"
   ]
  },
  {
   "cell_type": "code",
   "execution_count": 55,
   "metadata": {},
   "outputs": [
    {
     "name": "stdout",
     "output_type": "stream",
     "text": [
      "0.7352416535087434\n"
     ]
    }
   ],
   "source": [
    "accuracy_lasso = r2_score(y_test,y_pred_lasso )\n",
    "print(accuracy_lasso)"
   ]
  },
  {
   "cell_type": "code",
   "execution_count": null,
   "metadata": {},
   "outputs": [],
   "source": []
  }
 ],
 "metadata": {
  "kernelspec": {
   "display_name": "Python 3",
   "language": "python",
   "name": "python3"
  },
  "language_info": {
   "codemirror_mode": {
    "name": "ipython",
    "version": 3
   },
   "file_extension": ".py",
   "mimetype": "text/x-python",
   "name": "python",
   "nbconvert_exporter": "python",
   "pygments_lexer": "ipython3",
   "version": "3.8.3"
  }
 },
 "nbformat": 4,
 "nbformat_minor": 4
}
